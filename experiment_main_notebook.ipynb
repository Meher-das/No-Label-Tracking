{
 "cells": [
  {
   "cell_type": "code",
   "execution_count": null,
   "id": "2b079663",
   "metadata": {},
   "outputs": [],
   "source": [
    "# Video Capture Example\n",
    "import cv2 as cv\n",
    "import numpy as np\n",
    "\n",
    "cap = cv.VideoCapture(0)\n",
    "if not cap.isOpened():\n",
    "    print(\"Cannot open camera\")\n",
    "    exit()\n",
    "\n",
    "# Reshaped Dimensions\n",
    "reshaped_width = 480\n",
    "reshaped_height = 480\n",
    "\n",
    "while True:\n",
    "    # Capture frame-by-frame\n",
    "    ret, frame = cap.read()\n",
    "\n",
    "    # Resizing frame\n",
    "    output_frame = cv.resize(frame, (reshaped_width, reshaped_height))\n",
    "\n",
    "    # if frame is read correctly ret is True\n",
    "    if not ret:\n",
    "        print(\"Can't receive frame (stream end?). Exiting ...\")\n",
    "        break\n",
    "\n",
    "    # Object Detection and Labelling\n",
    "\n",
    "\n",
    "    # Display the resulting frame\n",
    "    cv.imshow('frame', output_frame)\n",
    "\n",
    "    if cv.waitKey(1) == ord('q'):\n",
    "        break\n",
    "\n",
    "# When everything done, release the capture\n",
    "cap.release()\n",
    "cv.destroyAllWindows()"
   ]
  },
  {
   "cell_type": "code",
   "execution_count": null,
   "id": "2d129886",
   "metadata": {},
   "outputs": [],
   "source": [
    "# Original DINO Feature Extaction"
   ]
  },
  {
   "cell_type": "code",
   "execution_count": null,
   "id": "7c1fec45",
   "metadata": {},
   "outputs": [],
   "source": [
    "# Pixel-wise DINO Feature Extraction"
   ]
  },
  {
   "cell_type": "code",
   "execution_count": null,
   "id": "cb6f333a",
   "metadata": {},
   "outputs": [],
   "source": [
    "# Binary Mask Creation"
   ]
  },
  {
   "cell_type": "code",
   "execution_count": null,
   "id": "167831ca",
   "metadata": {},
   "outputs": [],
   "source": [
    "# Bounding Box Prediction"
   ]
  }
 ],
 "metadata": {
  "kernelspec": {
   "display_name": ".venv",
   "language": "python",
   "name": "python3"
  },
  "language_info": {
   "codemirror_mode": {
    "name": "ipython",
    "version": 3
   },
   "file_extension": ".py",
   "mimetype": "text/x-python",
   "name": "python",
   "nbconvert_exporter": "python",
   "pygments_lexer": "ipython3",
   "version": "3.13.3"
  }
 },
 "nbformat": 4,
 "nbformat_minor": 5
}
