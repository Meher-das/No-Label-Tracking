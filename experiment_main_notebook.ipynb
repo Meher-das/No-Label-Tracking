{
 "cells": [
  {
   "cell_type": "code",
   "execution_count": 3,
   "id": "2b079663",
   "metadata": {},
   "outputs": [
    {
     "ename": "KeyboardInterrupt",
     "evalue": "",
     "output_type": "error",
     "traceback": [
      "\u001b[31m---------------------------------------------------------------------------\u001b[39m",
      "\u001b[31mKeyboardInterrupt\u001b[39m                         Traceback (most recent call last)",
      "\u001b[36mCell\u001b[39m\u001b[36m \u001b[39m\u001b[32mIn[3]\u001b[39m\u001b[32m, line 16\u001b[39m\n\u001b[32m     12\u001b[39m reshaped_height = \u001b[32m480\u001b[39m\n\u001b[32m     14\u001b[39m \u001b[38;5;28;01mwhile\u001b[39;00m \u001b[38;5;28;01mTrue\u001b[39;00m:\n\u001b[32m     15\u001b[39m     \u001b[38;5;66;03m# Capture frame-by-frame\u001b[39;00m\n\u001b[32m---> \u001b[39m\u001b[32m16\u001b[39m     ret, frame = \u001b[43mcap\u001b[49m\u001b[43m.\u001b[49m\u001b[43mread\u001b[49m\u001b[43m(\u001b[49m\u001b[43m)\u001b[49m\n\u001b[32m     18\u001b[39m     \u001b[38;5;66;03m# Resizing frame\u001b[39;00m\n\u001b[32m     19\u001b[39m     output_frame = cv.resize(frame, (reshaped_width, reshaped_height))\n",
      "\u001b[31mKeyboardInterrupt\u001b[39m: "
     ]
    }
   ],
   "source": [
    "# Video Capture Example\n",
    "import cv2 as cv\n",
    "import numpy as np\n",
    "\n",
    "cap = cv.VideoCapture(0)\n",
    "if not cap.isOpened():\n",
    "    print(\"Cannot open camera\")\n",
    "    exit()\n",
    "\n",
    "# Reshaped Dimensions\n",
    "reshaped_width = 480\n",
    "reshaped_height = 480\n",
    "\n",
    "while True:\n",
    "    # Capture frame-by-frame\n",
    "    ret, frame = cap.read()\n",
    "\n",
    "    # Resizing frame\n",
    "    output_frame = cv.resize(frame, (reshaped_width, reshaped_height))\n",
    "\n",
    "    # if frame is read correctly ret is True\n",
    "    if not ret:\n",
    "        print(\"Can't receive frame (stream end?). Exiting ...\")\n",
    "        break\n",
    "\n",
    "    # Object Detection and Labelling\n",
    "    #print(model_vits8(output_frame))\n",
    "\n",
    "    # Display the resulting frame\n",
    "    cv.imshow('frame', output_frame)\n",
    "\n",
    "    if cv.waitKey(1) == ord('q'):\n",
    "        break\n",
    "\n",
    "# When everything done, release the capture\n",
    "cap.release()\n",
    "cv.destroyAllWindows()"
   ]
  },
  {
   "cell_type": "code",
   "execution_count": null,
   "id": "728722d0",
   "metadata": {},
   "outputs": [],
   "source": [
    "# DINO Model\n",
    "import torch\n",
    "\n",
    "model_vits8 = torch.hub.load('facebookresearch/dino:main', 'dino_vits8')"
   ]
  },
  {
   "cell_type": "code",
   "execution_count": null,
   "id": "7c1fec45",
   "metadata": {},
   "outputs": [],
   "source": [
    "# Pixel-wise DINO Feature Extraction\n"
   ]
  },
  {
   "cell_type": "code",
   "execution_count": null,
   "id": "cb6f333a",
   "metadata": {},
   "outputs": [],
   "source": [
    "# Binary Mask Creation\n"
   ]
  },
  {
   "cell_type": "code",
   "execution_count": null,
   "id": "167831ca",
   "metadata": {},
   "outputs": [],
   "source": [
    "# Bounding Box Prediction\n"
   ]
  }
 ],
 "metadata": {
  "kernelspec": {
   "display_name": ".venv",
   "language": "python",
   "name": "python3"
  },
  "language_info": {
   "codemirror_mode": {
    "name": "ipython",
    "version": 3
   },
   "file_extension": ".py",
   "mimetype": "text/x-python",
   "name": "python",
   "nbconvert_exporter": "python",
   "pygments_lexer": "ipython3",
   "version": "3.13.3"
  }
 },
 "nbformat": 4,
 "nbformat_minor": 5
}
